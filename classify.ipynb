{
 "cells": [
  {
   "cell_type": "code",
   "execution_count": 1,
   "metadata": {
    "collapsed": true
   },
   "outputs": [],
   "source": [
    "from classify import create_vocabulary, create_bow, load_training_data, prior, p_word_given_label,classify, train"
   ]
  },
  {
   "cell_type": "code",
   "execution_count": 2,
   "outputs": [],
   "source": [
    "create_vocabulary('./EasyFiles/', 1)"
   ],
   "metadata": {
    "collapsed": false,
    "pycharm": {
     "name": "#%%\n"
    }
   }
  },
  {
   "cell_type": "code",
   "execution_count": 3,
   "outputs": [
    {
     "data": {
      "text/plain": "['.', 'a']"
     },
     "execution_count": 3,
     "metadata": {},
     "output_type": "execute_result"
    }
   ],
   "source": [
    "create_vocabulary('./EasyFiles/', 2)"
   ],
   "metadata": {
    "collapsed": false,
    "pycharm": {
     "name": "#%%\n"
    }
   }
  },
  {
   "cell_type": "code",
   "execution_count": 4,
   "outputs": [
    {
     "data": {
      "text/plain": "{'a': 2, 'dog': 1, 'chases': 1, 'cat': 1, '.': 1}"
     },
     "execution_count": 4,
     "metadata": {},
     "output_type": "execute_result"
    }
   ],
   "source": [
    "vocab = create_vocabulary('./EasyFiles/', 1)\n",
    "create_bow(vocab, './EasyFiles/2016/1.txt')"
   ],
   "metadata": {
    "collapsed": false,
    "pycharm": {
     "name": "#%%\n"
    }
   }
  },
  {
   "cell_type": "code",
   "execution_count": 5,
   "outputs": [
    {
     "data": {
      "text/plain": "{'it': 1, 'is': 1, 'february': 1, '19': 1, ',': 1, '2020': 1, '.': 1}"
     },
     "execution_count": 5,
     "metadata": {},
     "output_type": "execute_result"
    }
   ],
   "source": [
    "create_bow(vocab, './EasyFiles/2020/2.txt')"
   ],
   "metadata": {
    "collapsed": false,
    "pycharm": {
     "name": "#%%\n"
    }
   }
  },
  {
   "cell_type": "code",
   "execution_count": 6,
   "outputs": [
    {
     "data": {
      "text/plain": "{'a': 2, None: 3, '.': 1}"
     },
     "execution_count": 6,
     "metadata": {},
     "output_type": "execute_result"
    }
   ],
   "source": [
    "vocab = create_vocabulary('./EasyFiles/', 2)\n",
    "create_bow(vocab, './EasyFiles/2016/1.txt')"
   ],
   "metadata": {
    "collapsed": false,
    "pycharm": {
     "name": "#%%\n"
    }
   }
  },
  {
   "cell_type": "code",
   "execution_count": 7,
   "outputs": [
    {
     "data": {
      "text/plain": "[{'label': '2020',\n  'bow': {'it': 1,\n   'is': 1,\n   'february': 1,\n   '19': 1,\n   ',': 1,\n   '2020': 1,\n   '.': 1}},\n {'label': '2016', 'bow': {'hello': 1, 'world': 1}},\n {'label': '2016', 'bow': {'a': 2, 'dog': 1, 'chases': 1, 'cat': 1, '.': 1}}]"
     },
     "execution_count": 7,
     "metadata": {},
     "output_type": "execute_result"
    }
   ],
   "source": [
    "vocab = create_vocabulary('./EasyFiles/', 1)\n",
    "load_training_data(vocab,'./EasyFiles/')"
   ],
   "metadata": {
    "collapsed": false,
    "pycharm": {
     "name": "#%%\n"
    }
   }
  },
  {
   "cell_type": "code",
   "execution_count": 8,
   "outputs": [
    {
     "data": {
      "text/plain": "{'2020': -0.3217118210380923, '2016': -1.2906462863976693}"
     },
     "execution_count": 8,
     "metadata": {},
     "output_type": "execute_result"
    }
   ],
   "source": [
    "vocab = create_vocabulary('./corpus/training/', 2)\n",
    "training_data = load_training_data(vocab,'./corpus/training/')\n",
    "prior(training_data, ['2020', '2016'])"
   ],
   "metadata": {
    "collapsed": false,
    "pycharm": {
     "name": "#%%\n"
    }
   }
  },
  {
   "cell_type": "code",
   "execution_count": 9,
   "outputs": [
    {
     "data": {
      "text/plain": "{',': -2.3513752571634776,\n '.': -2.3513752571634776,\n '19': -2.3513752571634776,\n '2020': -2.3513752571634776,\n 'a': -3.044522437723423,\n 'cat': -3.044522437723423,\n 'chases': -3.044522437723423,\n 'dog': -3.044522437723423,\n 'february': -2.3513752571634776,\n 'hello': -3.044522437723423,\n 'is': -2.3513752571634776,\n 'it': -2.3513752571634776,\n 'world': -3.044522437723423,\n None: -3.044522437723423}"
     },
     "execution_count": 9,
     "metadata": {},
     "output_type": "execute_result"
    }
   ],
   "source": [
    "vocab = create_vocabulary('./EasyFiles/', 1)\n",
    "training_data = load_training_data(vocab, './EasyFiles/')\n",
    "p_word_given_label(vocab, training_data, '2020')"
   ],
   "metadata": {
    "collapsed": false,
    "pycharm": {
     "name": "#%%\n"
    }
   }
  },
  {
   "cell_type": "code",
   "execution_count": 10,
   "outputs": [
    {
     "data": {
      "text/plain": "{',': -3.0910424533583156,\n '.': -2.3978952727983707,\n '19': -3.0910424533583156,\n '2020': -3.0910424533583156,\n 'a': -1.9924301646902063,\n 'cat': -2.3978952727983707,\n 'chases': -2.3978952727983707,\n 'dog': -2.3978952727983707,\n 'february': -3.0910424533583156,\n 'hello': -2.3978952727983707,\n 'is': -3.0910424533583156,\n 'it': -3.0910424533583156,\n 'world': -2.3978952727983707,\n None: -3.0910424533583156}"
     },
     "execution_count": 10,
     "metadata": {},
     "output_type": "execute_result"
    }
   ],
   "source": [
    "p_word_given_label(vocab, training_data, '2016')"
   ],
   "metadata": {
    "collapsed": false,
    "pycharm": {
     "name": "#%%\n"
    }
   }
  },
  {
   "cell_type": "code",
   "execution_count": 11,
   "outputs": [
    {
     "data": {
      "text/plain": "{'.': -1.6094379124341003,\n 'a': -2.3025850929940455,\n None: -0.35667494393873245}"
     },
     "execution_count": 11,
     "metadata": {},
     "output_type": "execute_result"
    }
   ],
   "source": [
    "vocab = create_vocabulary('./EasyFiles/', 2)\n",
    "training_data = load_training_data(vocab, './EasyFiles/')\n",
    "p_word_given_label(vocab, training_data, '2020')"
   ],
   "metadata": {
    "collapsed": false,
    "pycharm": {
     "name": "#%%\n"
    }
   }
  },
  {
   "cell_type": "code",
   "execution_count": 12,
   "outputs": [
    {
     "data": {
      "text/plain": "{'.': -1.7047480922384253, 'a': -1.2992829841302609, None: -0.6061358035703156}"
     },
     "execution_count": 12,
     "metadata": {},
     "output_type": "execute_result"
    }
   ],
   "source": [
    "p_word_given_label(vocab, training_data, '2016')"
   ],
   "metadata": {
    "collapsed": false,
    "pycharm": {
     "name": "#%%\n"
    }
   }
  },
  {
   "cell_type": "code",
   "execution_count": 13,
   "outputs": [
    {
     "data": {
      "text/plain": "{'vocabulary': ['.', 'a'],\n 'log prior': {'2020': -0.916290731874155, '2016': -0.5108256237659907},\n 'log p(w|y=2020)': {'.': -1.6094379124341003,\n  'a': -2.3025850929940455,\n  None: -0.35667494393873245},\n 'log p(w|y=2016)': {'.': -1.7047480922384253,\n  'a': -1.2992829841302609,\n  None: -0.6061358035703156}}"
     },
     "execution_count": 13,
     "metadata": {},
     "output_type": "execute_result"
    }
   ],
   "source": [
    "train('./EasyFiles/', 2)"
   ],
   "metadata": {
    "collapsed": false,
    "pycharm": {
     "name": "#%%\n"
    }
   }
  },
  {
   "cell_type": "code",
   "execution_count": 14,
   "outputs": [
    {
     "data": {
      "text/plain": "{'log p(y=2020|x)': -3906.351945884103,\n 'log p(y=2016|x)': -3916.458747858921,\n 'predicted y': '2020'}"
     },
     "execution_count": 14,
     "metadata": {},
     "output_type": "execute_result"
    }
   ],
   "source": [
    "model = train('./corpus/training/', 2)\n",
    "classify(model, './corpus/test/2016/0.txt')"
   ],
   "metadata": {
    "collapsed": false,
    "pycharm": {
     "name": "#%%\n"
    }
   }
  }
 ],
 "metadata": {
  "kernelspec": {
   "display_name": "Python 3",
   "language": "python",
   "name": "python3"
  },
  "language_info": {
   "codemirror_mode": {
    "name": "ipython",
    "version": 2
   },
   "file_extension": ".py",
   "mimetype": "text/x-python",
   "name": "python",
   "nbconvert_exporter": "python",
   "pygments_lexer": "ipython2",
   "version": "2.7.6"
  }
 },
 "nbformat": 4,
 "nbformat_minor": 0
}